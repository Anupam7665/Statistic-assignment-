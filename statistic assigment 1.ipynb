{
 "cells": [
  {
   "cell_type": "markdown",
   "id": "6cbbc36a-37cc-423b-8d4a-4c1bc10b8b47",
   "metadata": {},
   "source": [
    "### Q1. What is Statistics?"
   ]
  },
  {
   "cell_type": "markdown",
   "id": "be3f000d-7647-4cec-a503-e07b572b4576",
   "metadata": {},
   "source": [
    "Stastistic is  the science of collecting , organizing and analyzing data . Because of its we can reach at decision making process\n",
    "\n",
    "Statistic have many application in various fields such as science , engineering , economics , education , health and social science "
   ]
  },
  {
   "cell_type": "markdown",
   "id": "13989fe2-952b-45a0-902f-4b9d9f906598",
   "metadata": {},
   "source": [
    "### Q2. Define the different types of statistics and give an example of when each type might be used."
   ]
  },
  {
   "cell_type": "markdown",
   "id": "07c9d6c3-1de8-4816-9a58-f6d5ab5edb1a",
   "metadata": {},
   "source": [
    "### Descriptive  statistic ###\n",
    "\n",
    "It consist of organizing and summarizing data. Using tables , graph measures .\n",
    "You can use descriptive statistic to calculate the mean  , median ,  mode  , range  , standard deviation and frequency of a  dataset \n",
    "\n",
    "for eg : to find the average height of the entire classroom\n",
    "\n",
    "\n",
    "### Inferential statistic ### \n",
    "\n",
    "It consist of using data you have measured to form conclusion. It helps you to your finding from a sample to a larger population . It gives the result what you expected\n",
    "\n",
    "for eg : Are the height of the student in classroom ot what you expect in the enttire college."
   ]
  },
  {
   "cell_type": "markdown",
   "id": "a5dae78b-a55c-44ac-94b4-e240c077bd57",
   "metadata": {},
   "source": [
    "### Q3. What are the different types of data and how do they differ from each other? Provide an example of each type of data."
   ]
  },
  {
   "cell_type": "markdown",
   "id": "5c46fa7e-37ab-44e7-9365-172264b8c308",
   "metadata": {},
   "source": [
    "### Quantitative Data ###\n",
    "\n",
    "Quantitative data are data that can be measured using numerical number . Quantitative data can be further divided into discrete and continous data. Discrete data are data that can only takes a whole numbers for eg : no of bank accounts , no os children in a family .\n",
    "Continous data are data that can take any value within a range for eg : height  , weight , temperature and speed .\n",
    "\n",
    "\n",
    "### Qualitative Data ###\n",
    "\n",
    "Qualitative data is also known as categorical data . Categorical data are data that can be grouped into categorised labels based on some quality or attributes .\n",
    "Qualitative data are further diivded into two categories nominal and ordinal data\n",
    "Nominal data are data that have no order or ranking . for eg : gender  , blood group and pincode \n",
    "Ordinal data are data that have meaningful order or sequence . for eg : customer feedback  , grades or ratings "
   ]
  },
  {
   "cell_type": "markdown",
   "id": "b8f9ae8b-5027-4daa-8713-577141ae9e83",
   "metadata": {},
   "source": [
    "### Q4. Categorise the following datasets with respect to quantitative and qualitative data types:\n",
    "### (i) Grading in exam: A+, A, B+, B, C+, C, D, E\n",
    "### (ii) Colour of mangoes: yellow, green, orange, red\n",
    "### (iii) Height data of a class: [178.9, 179, 179.5, 176, 177.2, 178.3, 175.8,...]\n",
    "### (iv) Number of mangoes exported by a farm: [500, 600, 478, 672, ...] "
   ]
  },
  {
   "cell_type": "markdown",
   "id": "054cd83e-ea67-4d06-b187-0456b3133f2a",
   "metadata": {},
   "source": [
    "(i) Grading in exam: A+, A, B+, B, C+, C, D, E\n",
    "\n",
    "This is a Quantitative data types \n",
    "\n",
    "(ii) Colour of mangoes: yellow, green, orange, red\n",
    "\n",
    "This is a Qualitative data types \n",
    "\n",
    "(iii) Height data of a class: [178.9, 179, 179.5, 176, 177.2, 178.3, 175.8,...]\n",
    "\n",
    "This is a Quantitative data types\n",
    "\n",
    "(iv) Number of mangoes exported by a farm: [500, 600, 478, 672, ...]\n",
    "\n",
    "\n",
    "This is  a quantitative data types "
   ]
  },
  {
   "cell_type": "markdown",
   "id": "b8c3c4ac-af77-4fd3-9d97-8a9d7500bc9a",
   "metadata": {},
   "source": [
    "### Q5. Explain the concept of levels of measurement and give an example of a variable for each level."
   ]
  },
  {
   "cell_type": "markdown",
   "id": "98655dc1-c191-4dde-b0d4-da019d42ee18",
   "metadata": {},
   "source": [
    "Levels of measurement are divides into four types i.e\n",
    "\n",
    "### Nominal scale data ###  \n",
    "Data can be categorize into groups or labels on some quality or attributes . Here order does not matter. \n",
    "For eg : Gender , colors and labes \n",
    "\n",
    "### Ordinal Scale data ### \n",
    "Here ranking is important . Order is important . But the difference cannot be measured.\n",
    "For eg : Week of days , Winner position 1st , 2nd and 3rd ranker.\n",
    "\n",
    "### Interval scale data ###\n",
    "In interval data , order is matters  , difference can be measured  , ratio cannot be measures and No true '0' starting point .\n",
    "For eg : temperature in celsius.\n",
    "\n",
    "### Ratio scale data ### \n",
    "In ratio data  , Orders are matters  , difference are measurable including ratio and also contains a '0' starting point .\n",
    "For eg : marks of student in a class."
   ]
  },
  {
   "cell_type": "markdown",
   "id": "dbfefc80-1544-4ed9-bab9-215fea6c9d0b",
   "metadata": {},
   "source": [
    "### Q6. Why is it important to understand the level of measurement when analyzing data? Provide an example to illustrate your answer."
   ]
  },
  {
   "cell_type": "markdown",
   "id": "1fe5f824-3eb7-4994-8d8a-b98cbdfc8c6a",
   "metadata": {},
   "source": [
    "The level of measurement determines what statistical analyses you can perform. for eg , you can calculate the mean  , median and mode for data at the interval and ratio levels but not for the noominal or ordinal data.\n",
    "\n",
    "You can preform addition or subtraction on interval and ratio data bou not oj nominal and ordianl data . It oisessential to te understand"
   ]
  },
  {
   "cell_type": "markdown",
   "id": "aa866edc-a3c0-4343-9348-bd5d730c911e",
   "metadata": {},
   "source": [
    "### Q7. How nominal data type is different from ordinal data type."
   ]
  },
  {
   "cell_type": "markdown",
   "id": "039e0305-c731-4293-a9ad-17e04006fdf2",
   "metadata": {},
   "source": [
    "In Nominal data types it is differentiate based on category . Just takes an eg gender is mainly od two types i.e male and female . Based on gender we can't judege them that is male is superior than female and vice versa . Also colors is eg of this data types that among all colors which one is best.\n",
    "\n",
    "In ordinal data types ranking is important also order is important but the differnce cannot be measured . For eg a rating on movie can be good  , better and bad .Here if Movie is good than other movie so its effect on collection of movies but we can't measure a differnce of actor in a movie. Also a week of days that sunday is greater than monday but most of people refer sunday because of week of office .   "
   ]
  },
  {
   "cell_type": "markdown",
   "id": "8f1ae46a-f483-421e-a571-dd4014f71f85",
   "metadata": {},
   "source": [
    "### Q8. Which type of plot can be used to display data in terms of range?"
   ]
  },
  {
   "cell_type": "markdown",
   "id": "4bf1d8db-0939-497b-9e70-969cf2a83aa4",
   "metadata": {},
   "source": [
    "A box plot also known as whisker plot that is often is used to display data in terms of range . Ir provides a visual representation of the minimum , first quartile , median , third quartile , and maximum values in a dataset\n",
    "\n",
    "This allow you to quickly understand the spread and distribution of the data , making it is useful tool for summarizing and comapriing the data ranges ."
   ]
  },
  {
   "cell_type": "markdown",
   "id": "0b0717e4-0781-4fba-a913-fff8702826c6",
   "metadata": {},
   "source": [
    "### Q9. Describe the difference between descriptive and inferential statistics. Give an example of each type of statistics and explain how they are used."
   ]
  },
  {
   "cell_type": "markdown",
   "id": "7427161d-54cf-4010-aa3a-3ca9811a5276",
   "metadata": {},
   "source": [
    "### Descriptive statistic ###\n",
    "It is used to summarize adn describe data . It provide a clear and concise overview of the main feature of data set . Example of descriptive Statistic include measure are mean  , median and mode .\n",
    "eg : Average income in group of people. Distribution of test scores in a  class.\n",
    "\n",
    "### Inferential Statistic ###\n",
    "Inferential statistic are used ot draw conclusion or make prediction about a population based on a sampke of data. An example of inferential statistic are hypothsis testing  , whether a new medicine is more effective than a existing one based on a sample of patients."
   ]
  },
  {
   "cell_type": "markdown",
   "id": "9bdabdea-c9f3-47dd-a0c7-726333148f6d",
   "metadata": {},
   "source": [
    "### Q10. What are some common measures of central tendency and variability used in statistics? Explain how each measure can be used to describe a dataset."
   ]
  },
  {
   "cell_type": "markdown",
   "id": "2b03b506-db7f-4fcb-83c8-62391f010075",
   "metadata": {},
   "source": [
    "### Mean ###\n",
    "The sum of all values divided by total number of values . It represen the average value of a set of a datapoint . The mean eight of a group of people can tell us how tall are on average\n",
    "\n",
    "\n",
    "### Mode ###\n",
    "In mode it tell us that which data is the , most frequent value in a dataset.The mode can be used to describe the most typical or popular response of data. for eg : [2,4,7,9,9,9,,2,5], the mode is 9 because it occurs more frequently three times that any other value in a datset \n",
    "\n",
    "### Medain ### \n",
    "The middle value in an ordered dataset. Median is used to find the central tendency when outlier is present.\n",
    "If the dataset has an odd number of values , the median is the average of the two middle values.\n",
    "\n",
    "\n",
    "### Standard Deviation ### \n",
    "In this a measures of how much values in a datset vary from mean . The stadard deviation can be used to describe the spread of a numerical dataset around its mean.\n",
    "for eg : standard deviation of a test scores can tell us how consistent or inconsistent the students performed on the test ."
   ]
  },
  {
   "cell_type": "code",
   "execution_count": null,
   "id": "9fcab644-2988-4455-a425-195e3fb7786c",
   "metadata": {},
   "outputs": [],
   "source": []
  }
 ],
 "metadata": {
  "kernelspec": {
   "display_name": "Python 3 (ipykernel)",
   "language": "python",
   "name": "python3"
  },
  "language_info": {
   "codemirror_mode": {
    "name": "ipython",
    "version": 3
   },
   "file_extension": ".py",
   "mimetype": "text/x-python",
   "name": "python",
   "nbconvert_exporter": "python",
   "pygments_lexer": "ipython3",
   "version": "3.10.8"
  }
 },
 "nbformat": 4,
 "nbformat_minor": 5
}
