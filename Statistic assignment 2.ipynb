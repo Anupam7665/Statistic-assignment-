{
 "cells": [
  {
   "cell_type": "markdown",
   "id": "b50d6b1c-f653-49ce-bb50-0d4a47dcb216",
   "metadata": {},
   "source": [
    "### Q1. What are the three measures of central tendency?"
   ]
  },
  {
   "cell_type": "markdown",
   "id": "7e1acd99-2cc5-4812-be73-3fc60c9c9524",
   "metadata": {},
   "source": [
    "The measure of central tendency are : Mean , Median , Mode.\n",
    "\n",
    "### Mean ###  \n",
    "Mean is used to find the averge of the given dataset. To find the mean we use the formula i.e The sum of all values divided by total number of values. for eg to fing the average height of a student in a classroom.\n",
    "\n",
    "### Median ###\n",
    "It is used to find the middle number of a given dataset . If the  count is even then we choose two number and add them and then divide by two number. If the count is odd then we choose middle number easily.Its most essential used to find the oultier in a given dataset when there is suddenly comes large number of ranges.\n",
    "\n",
    "### Mode ###\n",
    "It  is used to find the most frequent value in a given dataset..The mode can be used to describe the most typical or popular response of data. for eg : [2,4,7,9,9,9,,2,5], the mode is 9 because it occurs more frequently three times that any other value in a datset"
   ]
  },
  {
   "cell_type": "markdown",
   "id": "6bab1acf-2450-446a-b589-101f3ec9e401",
   "metadata": {},
   "source": [
    "### Q2. What is the difference between the mean, median, and mode? How are they used to measure the central tendency of a dataset?"
   ]
  },
  {
   "cell_type": "markdown",
   "id": "a58a8f7e-83e9-4e15-b164-aa3c1c52be0d",
   "metadata": {},
   "source": [
    "### Mean ###  \n",
    "Mean is used to find the averge of the given dataset. To find the mean we use the formula i.e The sum of all values divided by total number of values. for eg to fing the average height of a student in a classroom.\n",
    "\n",
    "### Median ###\n",
    "It is used to find the middle number of a given dataset . If the  count is even then we choose two number and add them and then divide by two number. If the count is odd then we choose middle number easily.Its most essential used to find the oultier in a given dataset when there is suddenly comes large number of ranges.\n",
    "\n",
    "### Mode ###\n",
    "It  is used to find the most frequent value in a given dataset..The mode can be used to describe the most typical or popular response of data. for eg : [2,4,7,9,9,9,,2,5], the mode is 9 because it occurs more frequently three times that any other value in a datset"
   ]
  },
  {
   "cell_type": "markdown",
   "id": "4a58e41e-6160-40f3-95dd-542fb5be9697",
   "metadata": {},
   "source": [
    "### Q3. Measure the three measures of central tendency for the given height data:\n",
    "[178,177,176,177,178.2,178,175,179,180,175,178.9,176.2,177,172.5,178,176.5]"
   ]
  },
  {
   "cell_type": "code",
   "execution_count": 2,
   "id": "89092547-4c69-462a-b92a-b2acbf0ce3d1",
   "metadata": {},
   "outputs": [],
   "source": [
    "data =[178,177,176,177,178.2,178,175,179,180,175,178.9,176.2,177,172.5,178,176.5]"
   ]
  },
  {
   "cell_type": "code",
   "execution_count": 4,
   "id": "6ff800d0-ced6-4e0b-8a94-ec7b737a0c36",
   "metadata": {},
   "outputs": [],
   "source": [
    "import numpy as np"
   ]
  },
  {
   "cell_type": "code",
   "execution_count": 5,
   "id": "ac6e1fe3-237f-42c5-9c70-d32b0fa4808f",
   "metadata": {},
   "outputs": [
    {
     "data": {
      "text/plain": [
       "177.01875"
      ]
     },
     "execution_count": 5,
     "metadata": {},
     "output_type": "execute_result"
    }
   ],
   "source": [
    "##To find a mean\n",
    "np.mean(data)"
   ]
  },
  {
   "cell_type": "code",
   "execution_count": 6,
   "id": "aae38bc5-2d34-4aa4-8bed-b2a08419f718",
   "metadata": {},
   "outputs": [
    {
     "data": {
      "text/plain": [
       "177.0"
      ]
     },
     "execution_count": 6,
     "metadata": {},
     "output_type": "execute_result"
    }
   ],
   "source": [
    "## to find a median\n",
    "np.median(data)"
   ]
  },
  {
   "cell_type": "code",
   "execution_count": 9,
   "id": "3a7f3ee8-3930-428f-8057-e6e799c593db",
   "metadata": {},
   "outputs": [],
   "source": [
    "from scipy import stats"
   ]
  },
  {
   "cell_type": "code",
   "execution_count": 10,
   "id": "b90e922d-7cbb-4c39-bdb0-a3806346590f",
   "metadata": {},
   "outputs": [
    {
     "name": "stderr",
     "output_type": "stream",
     "text": [
      "/tmp/ipykernel_974/3267261142.py:1: FutureWarning: Unlike other reduction functions (e.g. `skew`, `kurtosis`), the default behavior of `mode` typically preserves the axis it acts along. In SciPy 1.11.0, this behavior will change: the default value of `keepdims` will become False, the `axis` over which the statistic is taken will be eliminated, and the value None will no longer be accepted. Set `keepdims` to True or False to avoid this warning.\n",
      "  stats.mode(data)\n"
     ]
    },
    {
     "data": {
      "text/plain": [
       "ModeResult(mode=array([177.]), count=array([3]))"
      ]
     },
     "execution_count": 10,
     "metadata": {},
     "output_type": "execute_result"
    }
   ],
   "source": [
    "## to find mode \n",
    "stats.mode(data)"
   ]
  },
  {
   "cell_type": "markdown",
   "id": "266f59fa-ca7d-4538-816d-9b5dcb44f703",
   "metadata": {},
   "source": [
    "### O4. Find the standard deviation for the given data:\n",
    "[178,177,176,177,178.2,178,175,179,180,175,178.9,176.2,177,172.5,178,176.5]"
   ]
  },
  {
   "cell_type": "code",
   "execution_count": 12,
   "id": "c227f2d7-7c1b-4674-bb89-9794e9836f1d",
   "metadata": {},
   "outputs": [],
   "source": [
    "data = [178,177,176,177,178.2,178,175,179,180,175,178.9,176.2,177,172.5,178,176.5]"
   ]
  },
  {
   "cell_type": "code",
   "execution_count": 15,
   "id": "a003c7bf-ad73-4319-95f0-16a41054ebf4",
   "metadata": {},
   "outputs": [
    {
     "data": {
      "text/plain": [
       "1.7885814036548633"
      ]
     },
     "execution_count": 15,
     "metadata": {},
     "output_type": "execute_result"
    }
   ],
   "source": [
    "## to find a standard deviation\n",
    "np.std(data)"
   ]
  },
  {
   "cell_type": "markdown",
   "id": "9f9a03b2-3f54-4192-8055-932ea0da3673",
   "metadata": {},
   "source": [
    "### Q5. How are measures of dispersion such as range, variance, and standard deviation used to describe the spread of a dataset? Provide an example."
   ]
  },
  {
   "cell_type": "markdown",
   "id": "1868968e-a176-4564-ba4d-0c8c1a3903a8",
   "metadata": {},
   "source": [
    "### Range ###\n",
    "The range is the difference between the maximum and minimum value in a dataset.It gives us idea of the overall spread of data.\n",
    "\n",
    "### Variance ###\n",
    "The variance is the average of the square deviation from the mean. It measures how much the data deviate from the mean or average.\n",
    "\n",
    "### Standard Deviations ###\n",
    "The standard deviation is the square root of the variance. It measures how much the data value deviate from the mean on average ."
   ]
  },
  {
   "cell_type": "code",
   "execution_count": 19,
   "id": "98931bed-e951-4216-9bd9-882ece38cdb8",
   "metadata": {},
   "outputs": [],
   "source": [
    "### exampke of above answer \n",
    "ages=[23,43,23,56,74,32,68,98,45,32]"
   ]
  },
  {
   "cell_type": "code",
   "execution_count": 7,
   "id": "aa3c4b71-b315-41e7-acd2-020de680ea45",
   "metadata": {},
   "outputs": [],
   "source": [
    "import numpy as np"
   ]
  },
  {
   "cell_type": "code",
   "execution_count": 21,
   "id": "20fbca7e-cdda-44c2-9580-d2e300d62f20",
   "metadata": {},
   "outputs": [
    {
     "data": {
      "text/plain": [
       "541.64"
      ]
     },
     "execution_count": 21,
     "metadata": {},
     "output_type": "execute_result"
    }
   ],
   "source": [
    "### eg of variance \n",
    "np.var(ages)"
   ]
  },
  {
   "cell_type": "code",
   "execution_count": 22,
   "id": "225fd1eb-eff9-4645-af92-b2b1f1021c7c",
   "metadata": {},
   "outputs": [
    {
     "data": {
      "text/plain": [
       "23.273160507331188"
      ]
     },
     "execution_count": 22,
     "metadata": {},
     "output_type": "execute_result"
    }
   ],
   "source": [
    "### eg ofstandard deviations \n",
    "np.std(ages)"
   ]
  },
  {
   "cell_type": "code",
   "execution_count": 23,
   "id": "0da5566e-4a82-4005-878d-d296e4d9e067",
   "metadata": {},
   "outputs": [
    {
     "data": {
      "text/plain": [
       "98"
      ]
     },
     "execution_count": 23,
     "metadata": {},
     "output_type": "execute_result"
    }
   ],
   "source": [
    "## to find a range\n",
    "np.max(ages)"
   ]
  },
  {
   "cell_type": "code",
   "execution_count": 24,
   "id": "bb558e5c-6b76-4d80-9f55-74e835b88425",
   "metadata": {},
   "outputs": [
    {
     "data": {
      "text/plain": [
       "23"
      ]
     },
     "execution_count": 24,
     "metadata": {},
     "output_type": "execute_result"
    }
   ],
   "source": [
    "### to find a range\n",
    "np.min(ages)"
   ]
  },
  {
   "cell_type": "markdown",
   "id": "33e73b3e-03f6-4115-ae58-5623e7beed34",
   "metadata": {},
   "source": [
    "### Q6. What is a Venn diagram?"
   ]
  },
  {
   "cell_type": "markdown",
   "id": "6d927a01-ee4a-4269-aff5-bfc9f39d8106",
   "metadata": {},
   "source": [
    "A Venn diagram that the relationship between sets and their elements using circles or other shapes . A Venn diagram perform the operation such as union ,  intersection , complement and difference . A Venn diagram is useful for visualizing and silving problems involving sets. \n",
    "\n",
    "The universal set is represented by a rectengle and it is denoted by U which contain all the elements . The set A and set B is represented by a circle that may overlap or not . The part which is overlap is called as intersection which represents the common elements in a set or the intersection of A and B . Ther part which is not overlap represents the unique elements in a set or the difference odf A and B .    "
   ]
  },
  {
   "cell_type": "markdown",
   "id": "be35fbbc-1f87-4987-9590-3093266db5bf",
   "metadata": {},
   "source": [
    "### Q7. For the two given sets A = (2,3,4,5,6,7) & B = (0,2,6,8,10). Find:\n",
    "### (i) A-B\n",
    "### (ii) A ⋃ B"
   ]
  },
  {
   "cell_type": "code",
   "execution_count": 37,
   "id": "3be755c9-5f10-48e2-a96c-f57b8d43aa4f",
   "metadata": {},
   "outputs": [],
   "source": [
    "A = {2,3,4,5,6,7}\n",
    "B = {0,2,6,8,10}"
   ]
  },
  {
   "cell_type": "code",
   "execution_count": 38,
   "id": "9ba3c69c-9887-4003-a23b-2b0529f2a104",
   "metadata": {},
   "outputs": [
    {
     "name": "stdout",
     "output_type": "stream",
     "text": [
      "{0, 2, 3, 4, 5, 6, 7, 8, 10}\n"
     ]
    }
   ],
   "source": [
    "## to find a union\n",
    "D = A.union(B)\n",
    "print(D)"
   ]
  },
  {
   "cell_type": "code",
   "execution_count": 39,
   "id": "c15f94ab-c45b-479c-9263-604d646b1050",
   "metadata": {},
   "outputs": [
    {
     "name": "stdout",
     "output_type": "stream",
     "text": [
      "{2, 6}\n"
     ]
    }
   ],
   "source": [
    "### to find a intersection\n",
    "C = A.intersection(B)\n",
    "print(C)"
   ]
  },
  {
   "cell_type": "markdown",
   "id": "be281ab7-fe3a-42e6-8573-a44d4f6ac3b1",
   "metadata": {},
   "source": [
    "### Q8. What do you understand about skewness in data?"
   ]
  },
  {
   "cell_type": "markdown",
   "id": "030d10dd-7ebd-44e3-9fef-edca50c54983",
   "metadata": {},
   "source": [
    "Skewness is measure of the asymmetry of a distribution. A distribution is asymmetry when its left side or side are not equal.It indicates whether the data is concentrated more on one side of the mean than the other.\n",
    "\n",
    "Skewness is of three types i.e no skewness , Right skewed is also callled as positive skewed. The distribution is longer or fatter on the right side than the left side. It means majority of data points are concentrated on the left side.\n",
    "\n",
    "Left Skewed is also called as negative skewed . The distribution is longer or fatter on the left side than the right side . It means majority of the data is concentraterd on the right side.\n",
    "\n",
    "A No-skewness is also known as Zero skewed . A zero-skewed distribution is symmetrical and has equal mean and median"
   ]
  },
  {
   "cell_type": "markdown",
   "id": "91ff59c5-7110-49fc-86b8-3a09e7986092",
   "metadata": {},
   "source": [
    "### Q9. If a data is right skewed then what will be the position of median with respect to mean?"
   ]
  },
  {
   "cell_type": "markdown",
   "id": "377fd4f1-486b-4926-9a3f-4bf6e51a37e1",
   "metadata": {},
   "source": [
    "If a data is right skewed , then the position of the median is left to the mean. Because the mean is affected by the extreme value on the right side of the distribution , whie the median is not. Therefore , the mean is grater than the median , and both are greater than mode.  "
   ]
  },
  {
   "cell_type": "markdown",
   "id": "f4a4c705-99a8-4dbf-a65f-6d4a24dd16e7",
   "metadata": {},
   "source": [
    "### Q10. Explain the difference between covariance and correlation. How are these measures used in statistical analysis?"
   ]
  },
  {
   "cell_type": "markdown",
   "id": "67dffdc1-ed2a-44ae-8c1b-94014584c8f2",
   "metadata": {},
   "source": [
    "With the help of covariance & correlation we will able to Quantify the relationship between X & Y with a mathematical formula.Correlation can be compared across different dataset and variable , while covariance depends on the sclae and the unit of the variable.\n",
    "\n",
    "Covariance and correlation are used in statistical analysis for the different purpose. The term covariance and correlation are used to define a linear relationship and measures the relationship between two rando variables."
   ]
  },
  {
   "cell_type": "markdown",
   "id": "99624cff-f29b-423f-8e32-f1b42804c714",
   "metadata": {},
   "source": [
    "### Q11. What is the formula for calculating the sample mean? Provide an example calculation for a dataset."
   ]
  },
  {
   "cell_type": "code",
   "execution_count": 1,
   "id": "e987541c-dd4d-4ca4-a3f0-f30b2d88f16c",
   "metadata": {},
   "outputs": [],
   "source": [
    "data = [2, 4, 6, 8]"
   ]
  },
  {
   "cell_type": "code",
   "execution_count": 3,
   "id": "c2254f65-6e4b-4c0a-a8c5-4de31e4bb1fe",
   "metadata": {},
   "outputs": [],
   "source": [
    "import statistics as st"
   ]
  },
  {
   "cell_type": "code",
   "execution_count": 6,
   "id": "c8dcf1ce-8856-4395-a420-a5b5b8a1eba8",
   "metadata": {},
   "outputs": [
    {
     "name": "stdout",
     "output_type": "stream",
     "text": [
      "5\n"
     ]
    }
   ],
   "source": [
    "sample_mean = st.mean(data)\n",
    "print(sample_mean)"
   ]
  },
  {
   "cell_type": "markdown",
   "id": "0cf8cb1f-c4c5-422f-b1b2-2213da2c228d",
   "metadata": {},
   "source": [
    "### Q12. For a normal distribution data what is the relationship between its measure of central tendency?"
   ]
  },
  {
   "cell_type": "markdown",
   "id": "1e9c404e-3b77-4d30-a2d0-e9a8964b9c29",
   "metadata": {},
   "source": [
    "For the normal distribution data , the realtionship between its measure of central tendency is that they are equal. This means that the mean , median and mode of normal distribution are the same value  , and they are located at the center of the distribution. And also it has no skewness.\n",
    "\n",
    "It is also known as Gaussian distribution.It also describe as mean , median and mode all are perfectly at the center."
   ]
  },
  {
   "cell_type": "markdown",
   "id": "66e767b0-7bd4-4d9e-9b35-679ca575f8d1",
   "metadata": {},
   "source": [
    "### Q13. How is covariance different from correlation?"
   ]
  },
  {
   "cell_type": "markdown",
   "id": "0f670199-93bc-4865-89ba-0fbaae4a267c",
   "metadata": {},
   "source": [
    "Covariance and correlation are two measure that describe the relationship between two variables . They both are used  in statistical analysis to explore how variables are related to each other . \n",
    "\n",
    "Covariance depends on the scale and the units of the variables , while correlation can be compared across different dataset and variables. \n",
    "\n",
    "Covariance  is measure of how strongly two variables are related . It is calculated as the average of the product of the deviation from the mean for each variables.A positive covariance means that the variable tend to increase or decrease together . A negative covariance means that the variables tends to move in opposite direction.\n",
    "\n",
    "Correaltion is measure of how strongly two variables are related. It is calculated as the ratio of the covariance to the product of the standard deviation for each variable."
   ]
  },
  {
   "cell_type": "markdown",
   "id": "70d8c2ee-769d-4875-bd27-34f843cba8df",
   "metadata": {},
   "source": [
    "### Q14. How do outliers affect measures of central tendency and dispersion? Provide an example."
   ]
  },
  {
   "cell_type": "markdown",
   "id": "f109ff74-c60d-4bad-bd45-78f32322de63",
   "metadata": {},
   "source": [
    "Outliers are data values are very different from the rest of the data . They can affect the measues of central tendency and dispersion in differnet ways\n",
    "\n",
    "Central tendency : The mean , median and mode are the three common measures of central tendency . Theeyy represents the typical or average value od a dataset. Outliers can affect differently depending on their direction and magnitude. \n",
    "\n",
    "\n",
    "Dispersion : the range , variance and the standard deviation are the three common measures of dispersion. They represents how much the data values vary or spread around a central values. "
   ]
  },
  {
   "cell_type": "code",
   "execution_count": 19,
   "id": "79b88734-3e25-4aaf-8642-1ef02743fab1",
   "metadata": {},
   "outputs": [],
   "source": [
    "## example of central tendency\n",
    "A = [2,3,4,5,6,7]"
   ]
  },
  {
   "cell_type": "code",
   "execution_count": 20,
   "id": "8b220482-87ec-46f0-b972-cd8b1695266c",
   "metadata": {},
   "outputs": [
    {
     "data": {
      "text/plain": [
       "4.5"
      ]
     },
     "execution_count": 20,
     "metadata": {},
     "output_type": "execute_result"
    }
   ],
   "source": [
    "np.mean(A)"
   ]
  },
  {
   "cell_type": "code",
   "execution_count": 22,
   "id": "91e0d1bb-6569-4f2d-bfe8-d37328fda44e",
   "metadata": {},
   "outputs": [],
   "source": [
    "A = [2,3,4,5,6,7,100]"
   ]
  },
  {
   "cell_type": "code",
   "execution_count": 23,
   "id": "dcec21d9-6ffe-4625-92c2-293bae052abd",
   "metadata": {},
   "outputs": [
    {
     "data": {
      "text/plain": [
       "18.142857142857142"
      ]
     },
     "execution_count": 23,
     "metadata": {},
     "output_type": "execute_result"
    }
   ],
   "source": [
    "## here suddenly changes in means of because of a outlier are present 100 \n",
    "np.mean(A)"
   ]
  },
  {
   "cell_type": "code",
   "execution_count": null,
   "id": "16b370d5-9850-4b4f-93fd-46e47843f6ae",
   "metadata": {},
   "outputs": [],
   "source": [
    "## exam"
   ]
  }
 ],
 "metadata": {
  "kernelspec": {
   "display_name": "Python 3 (ipykernel)",
   "language": "python",
   "name": "python3"
  },
  "language_info": {
   "codemirror_mode": {
    "name": "ipython",
    "version": 3
   },
   "file_extension": ".py",
   "mimetype": "text/x-python",
   "name": "python",
   "nbconvert_exporter": "python",
   "pygments_lexer": "ipython3",
   "version": "3.10.8"
  }
 },
 "nbformat": 4,
 "nbformat_minor": 5
}
